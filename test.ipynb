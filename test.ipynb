{
 "cells": [
  {
   "cell_type": "code",
   "execution_count": 2,
   "metadata": {},
   "outputs": [],
   "source": [
    "import os\n",
    "import pandas as pd\n",
    "import folium\n",
    "from folium import plugins\n",
    "import urllib.request as req\n",
    "from bs4 import BeautifulSoup as soup"
   ]
  },
  {
   "cell_type": "code",
   "execution_count": 21,
   "metadata": {},
   "outputs": [
    {
     "data": {
      "text/plain": [
       "[tuple['Do it! 점프 투 파이썬', '\\n박응용 저\\r\\n                                        ', '19800', '10.0'],\n",
       " tuple['혼자 공부하는 파이썬', '\\n윤인성 저\\r\\n                                        ', '19800', '9.5'],\n",
       " tuple['혼자 공부하는 머신러닝+딥러닝', '\\n박해선 저\\r\\n                                        ', '23400', '9.8'],\n",
       " tuple['만들면서 배우는 파이썬과 40개의 작품들', '\\n장문철 저\\r\\n                                        ', '16920', '9.8'],\n",
       " tuple['파이썬과 엑셀로 시작하는 딥러닝', '\\n홍재권, 윤동현, 이승준 저\\r\\n                                        ', '22500', 0.0],\n",
       " tuple['챗GPT와 업무자동화', '\\n김철수 저\\r\\n                                        ', '16200', '9.3'],\n",
       " tuple['코딩 자율학습 나도코딩의 파이썬 입문', '\\n나도코딩 저\\r\\n                                        ', '21600', '9.7'],\n",
       " tuple['이기적 파이썬마스터 2·3급 기본서', '\\n이민경, 최경희 저\\r\\n                                        ', '19800', '10.0'],\n",
       " tuple['파이썬 머신러닝 완벽 가이드', '\\n권철민 저\\r\\n                                        ', '36000', '10.0'],\n",
       " tuple['혼자 공부하는 데이터 분석 with 파이썬', '\\n박해선 저\\r\\n                                        ', '23400', '9.8'],\n",
       " tuple['챗GPT와 함께하는 파이썬 & 머신러닝 코딩 마스터', '\\n김대우 저\\r\\n                                        ', '17800', 0.0],\n",
       " tuple['파이썬 과 MySQL', '\\n이길상 저\\r\\n                                        ', '19000', 0.0],\n",
       " tuple['미국 주식으로 시작하는 슬기로운 퀀트투자 (무료특별판)', '\\n김용환, Yubin Kim 저 저\\r\\n                                        ', '0', 0.0],\n",
       " tuple['이것이 취업을 위한 코딩 테스트다 with 파이썬 ', '\\n나동빈 저\\r\\n                                        ', '30600', '9.6'],\n",
       " tuple['밑바닥부터 시작하는 딥러닝 ', '\\n사이토 고키 저/개앞맵시 역\\r\\n                                        ', '21600', '9.5'],\n",
       " tuple['Do it! 알고리즘 코딩 테스트 - 파이썬 편 [체험판]', '\\n김종관 저\\r\\n                                        ', '0', 0.0],\n",
       " tuple['Do it! 게임 10개 만들며 배우는 파이썬', '\\n벤 포터, 쉬무엘 포터 저/안동현 역\\r\\n                                        ', '19800', '10.0'],\n",
       " tuple['1일 1로그 100일 완성 IT 지식', '\\n브라이언 W. 커니핸 저/하성창 역\\r\\n                                        ', '18000', '9.7'],\n",
       " tuple['파이썬 라이브러리를 활용한 데이터 분석', '\\n웨스 맥키니 저/김영근 역\\r\\n                                        ', '35100', '9.8'],\n",
       " tuple['2023 이기적 빅데이터분석기사 실기 기본서', '\\n나홍석, 배원성, 이혜영, 고려사이버대학교 AI·빅데이터 연구소 저\\r\\n                                        ', '29700', '10.0'],\n",
       " tuple['핸즈온 머신러닝', '\\n오렐리앙 제롱 저/박해선 역\\r\\n                                        ', '49500', '9.2'],\n",
       " tuple['2023 빅데이터분석기사 실기 한권완성 [파이썬(Python)]', '\\n최예신, 박진원, 이경숙, 김주현 저\\r\\n                                        ', '27000', 0.0],\n",
       " tuple['모두의 데이터 분석 with 파이썬', '\\n송석리, 이현아 저\\r\\n                                        ', '16200', '9.5'],\n",
       " tuple['인공지능, 주식투자 좀 부탁해', '\\n곽경일 저\\r\\n                                        ', '22500', '10.0']]"
      ]
     },
     "execution_count": 21,
     "metadata": {},
     "output_type": "execute_result"
    }
   ],
   "source": [
    "url = \"https://www.yes24.com/product/Search?domain=All&query=python\"\n",
    "res = req.urlopen(url) \n",
    "bs = soup(res, 'html.parser')\n",
    "books = bs.select('#yesSchList > li')\n",
    "data = []\n",
    "for book in books:\n",
    "    title = book.select('div > div.item_info > div.info_row.info_name > a.gd_name')[0].get_text()\n",
    "    author = book.select('div > div.item_info > div.info_row.info_pubGrp > span.authPub.info_auth')[0].get_text()\n",
    "    price = book.select('div > div.item_info > div.info_row.info_price > strong > em')[0].get_text().replace(',', '')\n",
    "    try:\n",
    "        point = book.select('div > div.item_info > div.info_row.info_rating > span.rating_grade > em')[0].get_text()\n",
    "    except: \n",
    "        point = 0.0\n",
    "    data.append(tuple[(title, author, price, point)])\n",
    "\n",
    "data\n"
   ]
  }
 ],
 "metadata": {
  "kernelspec": {
   "display_name": "base",
   "language": "python",
   "name": "python3"
  },
  "language_info": {
   "codemirror_mode": {
    "name": "ipython",
    "version": 3
   },
   "file_extension": ".py",
   "mimetype": "text/x-python",
   "name": "python",
   "nbconvert_exporter": "python",
   "pygments_lexer": "ipython3",
   "version": "3.10.9"
  },
  "orig_nbformat": 4
 },
 "nbformat": 4,
 "nbformat_minor": 2
}
