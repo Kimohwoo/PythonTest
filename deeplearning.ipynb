{
 "cells": [
  {
   "cell_type": "markdown",
   "metadata": {},
   "source": [
    "# 인공신경망 XOR 구현"
   ]
  },
  {
   "cell_type": "code",
   "execution_count": 1,
   "metadata": {},
   "outputs": [],
   "source": [
    "import torch\n",
    "import torch.nn as nn\n",
    "import torch.optim as optim"
   ]
  },
  {
   "cell_type": "code",
   "execution_count": 2,
   "metadata": {},
   "outputs": [],
   "source": [
    "x = torch.FloatTensor([[0,0],[0,1],[1,0],[1,1]])\n",
    "y = torch.FloatTensor([[0],[1],[1],[0]])"
   ]
  },
  {
   "cell_type": "code",
   "execution_count": 3,
   "metadata": {},
   "outputs": [],
   "source": [
    "model = nn.Sequential(\n",
    "    nn.Linear(2, 10, bias=True),\n",
    "    nn.Sigmoid(),\n",
    "    nn.Linear(10,10, bias=True),\n",
    "    nn.Sigmoid(),\n",
    "    nn.Linear(10,10, bias=True),\n",
    "    nn.Sigmoid(),\n",
    "    nn.Linear(10,1, bias=True),\n",
    "    nn.Sigmoid()\n",
    ")"
   ]
  },
  {
   "cell_type": "code",
   "execution_count": 4,
   "metadata": {},
   "outputs": [],
   "source": [
    "criterion = torch.nn.BCELoss()\n",
    "optimizer = optim.SGD(model.parameters(), lr=1)"
   ]
  },
  {
   "cell_type": "code",
   "execution_count": 5,
   "metadata": {},
   "outputs": [
    {
     "name": "stdout",
     "output_type": "stream",
     "text": [
      "Epoch: 0 Cost: 0.7017521262168884\n",
      "Epoch: 1000 Cost: 0.6931344270706177\n",
      "Epoch: 2000 Cost: 0.6931136846542358\n",
      "Epoch: 3000 Cost: 0.6930578351020813\n",
      "Epoch: 4000 Cost: 0.6927046775817871\n",
      "Epoch: 5000 Cost: 0.006952058058232069\n",
      "Epoch: 6000 Cost: 0.0006626611575484276\n",
      "Epoch: 7000 Cost: 0.0003269371809437871\n",
      "Epoch: 8000 Cost: 0.0002136591647285968\n",
      "Epoch: 9000 Cost: 0.00015761263784952462\n",
      "Epoch: 10000 Cost: 0.00012434643576852977\n"
     ]
    }
   ],
   "source": [
    "for epoch in range(10001):\n",
    "    optimizer.zero_grad()\n",
    "\n",
    "    y_hat = model(x)\n",
    "    cost = criterion(y_hat, y)\n",
    "    cost.backward()\n",
    "    optimizer.step()\n",
    "\n",
    "    if epoch % 1000 == 0:\n",
    "        print('Epoch:', epoch, 'Cost:',cost.item())\n"
   ]
  },
  {
   "cell_type": "code",
   "execution_count": 6,
   "metadata": {},
   "outputs": [
    {
     "name": "stdout",
     "output_type": "stream",
     "text": [
      "tensor([[1.0578e-04],\n",
      "        [9.9987e-01],\n",
      "        [9.9988e-01],\n",
      "        [1.4393e-04]])\n",
      "tensor([[0.],\n",
      "        [1.],\n",
      "        [1.],\n",
      "        [0.]])\n",
      "tensor(1.)\n",
      "tensor([[0.],\n",
      "        [1.],\n",
      "        [1.],\n",
      "        [0.]])\n"
     ]
    }
   ],
   "source": [
    "with torch.no_grad():\n",
    "    h = model(x)\n",
    "    prediction = (h>0.5).float()\n",
    "    accuray = (prediction==y).float().mean()\n",
    "    print(h)\n",
    "    print(prediction)\n",
    "    print(accuray)\n",
    "    print(y)\n",
    "    "
   ]
  },
  {
   "cell_type": "code",
   "execution_count": 7,
   "metadata": {},
   "outputs": [],
   "source": [
    "import matplotlib.pyplot as plt\n",
    "import numpy as np"
   ]
  },
  {
   "cell_type": "code",
   "execution_count": 8,
   "metadata": {},
   "outputs": [],
   "source": [
    "def sigmoid(x):\n",
    "    return 1/(1+np.exp(-x))\n",
    "\n",
    "x = np.arange(-5.0, 5.0, 0.1)\n",
    "y = sigmoid(x)\n"
   ]
  },
  {
   "cell_type": "code",
   "execution_count": 9,
   "metadata": {},
   "outputs": [],
   "source": [
    "# plt.plot(x,y)\n",
    "# plt.plot([0.0,0.0], [1.0, 0.0], ':')\n",
    "# plt.title('Sigmoid Function')"
   ]
  },
  {
   "cell_type": "code",
   "execution_count": 10,
   "metadata": {},
   "outputs": [],
   "source": [
    "# x = np.arange(-5.0, 5.0, 0.1)\n",
    "# y = np.tanh(x)\n",
    "# plt.plot(x,y)\n",
    "# plt.plot([0,0], [1.0,0.0], ':')\n",
    "# plt.title('Sigmoid Function')\n",
    "# plt.show()"
   ]
  },
  {
   "cell_type": "code",
   "execution_count": 11,
   "metadata": {},
   "outputs": [
    {
     "name": "stdout",
     "output_type": "stream",
     "text": [
      "0.9999999999999998\n",
      "[4.77496908e-06 5.27715696e-06 5.83216040e-06 6.44553406e-06\n",
      " 7.12341680e-06 7.87259308e-06 8.70056093e-06 9.61560691e-06\n",
      " 1.06268891e-05 1.17445288e-05 1.29797117e-05 1.43447999e-05\n",
      " 1.58534556e-05 1.75207781e-05 1.93634544e-05 2.13999267e-05\n",
      " 2.36505767e-05 2.61379295e-05 2.88868796e-05 3.19249392e-05\n",
      " 3.52825144e-05 3.89932088e-05 4.30941604e-05 4.76264128e-05\n",
      " 5.26353263e-05 5.81710319e-05 6.42889328e-05 7.10502589e-05\n",
      " 7.85226798e-05 8.67809821e-05 9.59078177e-05 1.05994531e-04\n",
      " 1.17142073e-04 1.29462012e-04 1.43077651e-04 1.58125259e-04\n",
      " 1.74755438e-04 1.93134628e-04 2.13446774e-04 2.35895167e-04\n",
      " 2.60704478e-04 2.88123007e-04 3.18425169e-04 3.51914236e-04\n",
      " 3.88925379e-04 4.29829018e-04 4.75034531e-04 5.24994349e-04\n",
      " 5.80208486e-04 6.41229545e-04 7.08668245e-04 7.83199535e-04\n",
      " 8.65569349e-04 9.56602073e-04 1.05720879e-03 1.16839641e-03\n",
      " 1.29127773e-03 1.42708260e-03 1.57717018e-03 1.74304262e-03\n",
      " 1.92636001e-03 2.12895706e-03 2.35286143e-03 2.60031403e-03\n",
      " 2.87379144e-03 3.17603073e-03 3.51005680e-03 3.87921269e-03\n",
      " 4.28719305e-03 4.73808108e-03 5.23638942e-03 5.78710530e-03\n",
      " 6.39574048e-03 7.06838638e-03 7.81177506e-03 8.63334662e-03\n",
      " 9.54132361e-03 1.05447934e-02 1.16537990e-02 1.28794397e-02\n",
      " 1.42339822e-02 1.57309832e-02 1.73854251e-02 1.92138663e-02\n",
      " 2.12346062e-02 2.34678692e-02 2.59360066e-02 2.86637202e-02\n",
      " 3.16783100e-02 3.50099469e-02 3.86919752e-02 4.27612457e-02\n",
      " 4.72584852e-02 5.22287035e-02 5.77216442e-02 6.37922825e-02\n",
      " 7.05013754e-02 7.79160698e-02 8.61105744e-02 9.51669025e-02]\n"
     ]
    }
   ],
   "source": [
    "x = np.arange(-5.0, 5.0, 0.1)\n",
    "y = np.exp(x) / np.sum(np.exp(x))\n",
    "print(y.sum())\n",
    "print(y)"
   ]
  },
  {
   "cell_type": "code",
   "execution_count": null,
   "metadata": {},
   "outputs": [],
   "source": []
  }
 ],
 "metadata": {
  "kernelspec": {
   "display_name": "base",
   "language": "python",
   "name": "python3"
  },
  "language_info": {
   "codemirror_mode": {
    "name": "ipython",
    "version": 3
   },
   "file_extension": ".py",
   "mimetype": "text/x-python",
   "name": "python",
   "nbconvert_exporter": "python",
   "pygments_lexer": "ipython3",
   "version": "3.10.9"
  },
  "orig_nbformat": 4
 },
 "nbformat": 4,
 "nbformat_minor": 2
}
