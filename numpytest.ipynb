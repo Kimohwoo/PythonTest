{
 "cells": [
  {
   "cell_type": "code",
   "execution_count": 2,
   "metadata": {},
   "outputs": [],
   "source": [
    "import numpy as np"
   ]
  },
  {
   "cell_type": "code",
   "execution_count": 12,
   "metadata": {},
   "outputs": [
    {
     "name": "stdout",
     "output_type": "stream",
     "text": [
      "{1, 2, 3, 4, 5} <class 'set'>\n",
      "{1, 2, 3, 4, 5} <class 'numpy.ndarray'>\n"
     ]
    }
   ],
   "source": [
    "a={1,2,3,4,5}\n",
    "b=np.array(a)\n",
    "print(a, type(a))\n",
    "print(b, type(b))"
   ]
  },
  {
   "cell_type": "code",
   "execution_count": 29,
   "metadata": {},
   "outputs": [
    {
     "name": "stdout",
     "output_type": "stream",
     "text": [
      "[4 5 6 7]\n",
      "[0 1 2 3]\n",
      "[2 4 6 8]\n",
      "[0.5 1.  1.5 2. ]\n",
      "[0 1 1 2]\n"
     ]
    }
   ],
   "source": [
    "aa=[1,2,3,4]\n",
    "bb=[7,8,9,10]\n",
    "arr1 = np.array(aa)\n",
    "arr2 = np.array(bb)\n",
    "# print(aa+bb)\n",
    "print(arr1+3)\n",
    "print(arr1-1)\n",
    "print(arr1*2)\n",
    "print(arr1/2)\n",
    "print(arr1//2)"
   ]
  },
  {
   "cell_type": "code",
   "execution_count": 32,
   "metadata": {},
   "outputs": [
    {
     "name": "stdout",
     "output_type": "stream",
     "text": [
      "[1 2 3]\n",
      "[[1 1 1]\n",
      " [2 2 2]\n",
      " [3 3 3]]\n",
      "[[2 3 4]\n",
      " [3 4 5]\n",
      " [4 5 6]]\n"
     ]
    }
   ],
   "source": [
    "a1=[[1,1,1],[2,2,2],[3,3,3]]\n",
    "a2=[1,2,3]\n",
    "b1=np.array(a1)\n",
    "b2=np.array(a2)\n",
    "print(b2)\n",
    "print(b1)\n",
    "print(b1 + b2)"
   ]
  },
  {
   "cell_type": "code",
   "execution_count": 59,
   "metadata": {},
   "outputs": [
    {
     "name": "stdout",
     "output_type": "stream",
     "text": [
      "[[3 4 5]\n",
      " [1 2 5]\n",
      " [6 7 9]]\n",
      "[[3 4 5]\n",
      " [1 2 5]\n",
      " [6 7 9]]\n",
      "[[2 4 1]\n",
      " [5 5 3]\n",
      " [7 6 9]]\n",
      "[[1 4 2]\n",
      " [3 5 5]\n",
      " [9 6 7]]\n"
     ]
    }
   ],
   "source": [
    "a=[5,4,3,2,5,1,7,6,9]\n",
    "arr1=np.array(a).reshape(3,3)\n",
    "print(np.sort(arr1))\n",
    "print(np.sort(arr1, axis=1))\n",
    "print(np.sort(arr1, axis=0))\n",
    "print(np.sort(arr1, axis=0)[::,::-1])"
   ]
  },
  {
   "cell_type": "code",
   "execution_count": 62,
   "metadata": {},
   "outputs": [
    {
     "name": "stdout",
     "output_type": "stream",
     "text": [
      "[[5 4 3]\n",
      " [2 5 1]\n",
      " [7 6 9]]\n",
      "[[5 2 7]\n",
      " [4 5 6]\n",
      " [3 1 9]]\n"
     ]
    }
   ],
   "source": [
    "print(arr1)\n",
    "print(arr1.transpose())"
   ]
  },
  {
   "cell_type": "code",
   "execution_count": 72,
   "metadata": {},
   "outputs": [
    {
     "name": "stdout",
     "output_type": "stream",
     "text": [
      "[[ True False  True]\n",
      " [False  True  True]\n",
      " [False False  True]]\n",
      "False\n",
      "True\n"
     ]
    }
   ],
   "source": [
    "print(arr1.transpose()>=5)\n",
    "print(np.all(arr1<3))\n",
    "print(np.any(arr1<3))"
   ]
  },
  {
   "cell_type": "code",
   "execution_count": 77,
   "metadata": {},
   "outputs": [
    {
     "name": "stdout",
     "output_type": "stream",
     "text": [
      "[1. 1. 1. 1. 1. 1. 1. 1. 1. 1.]\n",
      "[[0. 0. 0.]\n",
      " [0. 0. 0.]\n",
      " [0. 0. 0.]]\n"
     ]
    }
   ],
   "source": [
    "a1 = np.ones(10)\n",
    "a2 = np.zeros([3,3])\n",
    "print(a1)\n",
    "print(a2)"
   ]
  },
  {
   "cell_type": "code",
   "execution_count": 83,
   "metadata": {},
   "outputs": [
    {
     "name": "stdout",
     "output_type": "stream",
     "text": [
      "[[1 1 1]\n",
      " [1 1 1]\n",
      " [1 1 1]]\n",
      "[[0 0 0]\n",
      " [0 0 0]\n",
      " [0 0 0]]\n"
     ]
    }
   ],
   "source": [
    "b1=np.ones_like(arr1)\n",
    "b2=np.zeros_like(arr1)\n",
    "print(b1)\n",
    "print(b2)\n"
   ]
  }
 ],
 "metadata": {
  "kernelspec": {
   "display_name": "Python 3",
   "language": "python",
   "name": "python3"
  },
  "language_info": {
   "codemirror_mode": {
    "name": "ipython",
    "version": 3
   },
   "file_extension": ".py",
   "mimetype": "text/x-python",
   "name": "python",
   "nbconvert_exporter": "python",
   "pygments_lexer": "ipython3",
   "version": "3.10.12"
  },
  "orig_nbformat": 4
 },
 "nbformat": 4,
 "nbformat_minor": 2
}
