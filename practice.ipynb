{
 "cells": [
  {
   "cell_type": "code",
   "execution_count": 50,
   "metadata": {},
   "outputs": [],
   "source": [
    "import numpy as np"
   ]
  },
  {
   "cell_type": "code",
   "execution_count": 11,
   "metadata": {},
   "outputs": [],
   "source": [
    "data=np.genfromtxt(\"data/ratings.dat\", delimiter=\"::\", dtype=np.int64)"
   ]
  },
  {
   "cell_type": "code",
   "execution_count": 39,
   "metadata": {},
   "outputs": [
    {
     "name": "stdout",
     "output_type": "stream",
     "text": [
      "[[        1      1193         5 978300760]\n",
      " [        1       661         3 978302109]\n",
      " [        1       914         3 978301968]\n",
      " [        1      3408         4 978300275]\n",
      " [        1      2355         5 978824291]\n",
      " [        1      1197         3 978302268]\n",
      " [        1      1287         5 978302039]\n",
      " [        1      2804         5 978300719]\n",
      " [        1       594         4 978302268]\n",
      " [        1       919         4 978301368]]\n",
      "(1000209, 4)\n"
     ]
    }
   ],
   "source": [
    "print(data[:10,:])\n",
    "print(data.shape)"
   ]
  },
  {
   "cell_type": "code",
   "execution_count": 47,
   "metadata": {},
   "outputs": [
    {
     "name": "stdout",
     "output_type": "stream",
     "text": [
      "[ 1  2  3  4  5  6  7  8  9 10]\n",
      "(3706,)\n"
     ]
    }
   ],
   "source": [
    "movie_ids = np.unique(data[:,1])\n",
    "print(movie_ids[:10])\n",
    "print(movie_ids.shape)"
   ]
  },
  {
   "cell_type": "code",
   "execution_count": 35,
   "metadata": {},
   "outputs": [],
   "source": [
    "meanValue = []\n",
    "for movie_id in movie_ids:\n",
    "    data_for_movie = data[data[:,1]==movie_id,:]\n",
    "    value = data_for_movie[:, 2].mean()\n",
    "    meanValue.append([movie_id, value])"
   ]
  },
  {
   "cell_type": "code",
   "execution_count": 37,
   "metadata": {},
   "outputs": [
    {
     "name": "stdout",
     "output_type": "stream",
     "text": [
      "[[ 1.         4.1468463]\n",
      " [ 2.         3.201141 ]\n",
      " [ 3.         3.0167365]\n",
      " [ 4.         2.7294118]\n",
      " [ 5.         3.0067568]\n",
      " [ 6.         3.8787234]\n",
      " [ 7.         3.4104803]\n",
      " [ 8.         3.014706 ]\n",
      " [ 9.         2.6568627]\n",
      " [10.         3.5405405]]\n",
      "(3706, 2)\n"
     ]
    }
   ],
   "source": [
    "mean_array = np.array(meanValue, dtype=np.float32)\n",
    "print(mean_array[:10])\n",
    "print(mean_array.shape)"
   ]
  },
  {
   "cell_type": "code",
   "execution_count": 38,
   "metadata": {},
   "outputs": [],
   "source": [
    "np.savetxt(\"data/movieId_result.csv\", mean_array, fmt=\"%.2f\", delimiter=\",\")"
   ]
  }
 ],
 "metadata": {
  "kernelspec": {
   "display_name": "Python 3",
   "language": "python",
   "name": "python3"
  },
  "language_info": {
   "codemirror_mode": {
    "name": "ipython",
    "version": 3
   },
   "file_extension": ".py",
   "mimetype": "text/x-python",
   "name": "python",
   "nbconvert_exporter": "python",
   "pygments_lexer": "ipython3",
   "version": "3.10.12"
  },
  "orig_nbformat": 4
 },
 "nbformat": 4,
 "nbformat_minor": 2
}
