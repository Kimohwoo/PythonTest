{
 "cells": [
  {
   "cell_type": "code",
   "execution_count": 17,
   "metadata": {},
   "outputs": [],
   "source": [
    "from nltk import Text\n",
    "import matplotlib.pyplot as plt\n",
    "from matplotlib import font_manager, rc"
   ]
  },
  {
   "cell_type": "code",
   "execution_count": 18,
   "metadata": {},
   "outputs": [],
   "source": [
    "font_path = 'c:/Windows/fonts/malgun.ttf'\n",
    "font_name = font_manager.FontProperties(fname=font_path).get_name()\n",
    "rc('font', family=font_name)"
   ]
  },
  {
   "cell_type": "code",
   "execution_count": 19,
   "metadata": {},
   "outputs": [
    {
     "ename": "NameError",
     "evalue": "name 'okt' is not defined",
     "output_type": "error",
     "traceback": [
      "\u001b[1;31m---------------------------------------------------------------------------\u001b[0m",
      "\u001b[1;31mNameError\u001b[0m                                 Traceback (most recent call last)",
      "Cell \u001b[1;32mIn[19], line 1\u001b[0m\n\u001b[1;32m----> 1\u001b[0m kolaw \u001b[39m=\u001b[39m Text(okt\u001b[39m.\u001b[39mnouns(c), name\u001b[39m=\u001b[39m\u001b[39m'\u001b[39m\u001b[39mkolaw\u001b[39m\u001b[39m'\u001b[39m)\n\u001b[0;32m      2\u001b[0m kolaw\u001b[39m.\u001b[39mplot(\u001b[39m30\u001b[39m)\n",
      "\u001b[1;31mNameError\u001b[0m: name 'okt' is not defined"
     ]
    }
   ],
   "source": [
    "kolaw = Text(okt.nouns(c), name='kolaw')\n",
    "kolaw.plot(30)"
   ]
  },
  {
   "cell_type": "code",
   "execution_count": 9,
   "metadata": {},
   "outputs": [
    {
     "ename": "AttributeError",
     "evalue": "module 'matplotlib.pyplot' has no attribute 'inshow'",
     "output_type": "error",
     "traceback": [
      "\u001b[1;31m---------------------------------------------------------------------------\u001b[0m",
      "\u001b[1;31mAttributeError\u001b[0m                            Traceback (most recent call last)",
      "Cell \u001b[1;32mIn[9], line 4\u001b[0m\n\u001b[0;32m      2\u001b[0m font_path\u001b[39m=\u001b[39m\u001b[39m'\u001b[39m\u001b[39mc:/Windows/Fonts/malgun.ttf\u001b[39m\u001b[39m'\u001b[39m\n\u001b[0;32m      3\u001b[0m wc \u001b[39m=\u001b[39m WordCloud(width\u001b[39m=\u001b[39m\u001b[39m1000\u001b[39m, height\u001b[39m=\u001b[39m\u001b[39m1000\u001b[39m, background_color\u001b[39m=\u001b[39m\u001b[39m'\u001b[39m\u001b[39mwhite\u001b[39m\u001b[39m'\u001b[39m, font_path\u001b[39m=\u001b[39mfont_path)\n\u001b[1;32m----> 4\u001b[0m plt\u001b[39m.\u001b[39;49minshow(wc\u001b[39m.\u001b[39mgenerate_from_frequencies(kolaw\u001b[39m.\u001b[39mvocab()))\n",
      "\u001b[1;31mAttributeError\u001b[0m: module 'matplotlib.pyplot' has no attribute 'inshow'"
     ]
    }
   ],
   "source": [
    "from wordcloud import WordCloud\n",
    "font_path='c:/Windows/Fonts/malgun.ttf'\n",
    "wc = WordCloud(width=1000, height=1000, background_color='white', font_path=font_path)\n",
    "plt.inshow(wc.generate_from_frequencies(kolaw.vocab()))\n",
    "plt.axis('off')\n",
    "plt.show()"
   ]
  }
 ],
 "metadata": {
  "kernelspec": {
   "display_name": "base",
   "language": "python",
   "name": "python3"
  },
  "language_info": {
   "codemirror_mode": {
    "name": "ipython",
    "version": 3
   },
   "file_extension": ".py",
   "mimetype": "text/x-python",
   "name": "python",
   "nbconvert_exporter": "python",
   "pygments_lexer": "ipython3",
   "version": "3.10.9"
  },
  "orig_nbformat": 4
 },
 "nbformat": 4,
 "nbformat_minor": 2
}
