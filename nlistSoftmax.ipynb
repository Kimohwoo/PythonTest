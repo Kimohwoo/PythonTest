{
 "cells": [
  {
   "cell_type": "code",
   "execution_count": 1,
   "metadata": {},
   "outputs": [],
   "source": [
    "import torch\n",
    "import torchvision.datasets as dsets\n",
    "import torchvision.transforms as transforms\n",
    "from torch.utils.data import DataLoader\n",
    "import torch.nn as nn\n",
    "import matplotlib.pyplot as plt\n",
    "import random\n",
    "import torch.optim as optim"
   ]
  },
  {
   "cell_type": "code",
   "execution_count": 2,
   "metadata": {},
   "outputs": [
    {
     "name": "stdout",
     "output_type": "stream",
     "text": [
      "다음기기 사용: cpu\n"
     ]
    }
   ],
   "source": [
    "USE_CUDA = torch.cuda.is_available()\n",
    "device = torch.device('cuda' if USE_CUDA else 'cpu')\n",
    "print(\"다음기기 사용:\", device)"
   ]
  },
  {
   "cell_type": "code",
   "execution_count": 3,
   "metadata": {},
   "outputs": [],
   "source": [
    "random.seed(777)\n",
    "torch.manual_seed(777)\n",
    "if device == 'cuda':\n",
    "    torch.cuda.manual_seed_all(7777)"
   ]
  },
  {
   "cell_type": "code",
   "execution_count": 4,
   "metadata": {},
   "outputs": [],
   "source": [
    "training_epochs = 15\n",
    "batch_size = 100"
   ]
  },
  {
   "cell_type": "code",
   "execution_count": 5,
   "metadata": {},
   "outputs": [],
   "source": [
    "mnist_train = dsets.MNIST(root='MNIST_data/',\n",
    "                          train=True,\n",
    "                          transform=transforms.ToTensor(),\n",
    "                          download=True)\n",
    "\n",
    "mnist_test = dsets.MNIST(root=\"MNIST_data/\",\n",
    "                         train=False,\n",
    "                         transform=transforms.ToTensor(),\n",
    "                         download=True)"
   ]
  },
  {
   "cell_type": "code",
   "execution_count": 6,
   "metadata": {},
   "outputs": [],
   "source": [
    "data_loader = DataLoader(dataset=mnist_train, batch_size=batch_size, shuffle=True,drop_last=True)"
   ]
  },
  {
   "cell_type": "code",
   "execution_count": 7,
   "metadata": {},
   "outputs": [
    {
     "data": {
      "text/plain": [
       "<torch.utils.data.dataloader.DataLoader at 0x19cc30dcaf0>"
      ]
     },
     "execution_count": 7,
     "metadata": {},
     "output_type": "execute_result"
    }
   ],
   "source": [
    "data_loader"
   ]
  },
  {
   "cell_type": "code",
   "execution_count": 8,
   "metadata": {},
   "outputs": [],
   "source": [
    "linear = nn.Linear(784, 10, bias=True).to(device)"
   ]
  },
  {
   "cell_type": "code",
   "execution_count": 9,
   "metadata": {},
   "outputs": [],
   "source": [
    "criterion = nn.CrossEntropyLoss().to(device)\n",
    "optimizer = optim.SGD(linear.parameters(), lr=0.1)"
   ]
  },
  {
   "cell_type": "code",
   "execution_count": 10,
   "metadata": {},
   "outputs": [
    {
     "name": "stdout",
     "output_type": "stream",
     "text": [
      "Epoch: 0 Cost: tensor(0.5352, grad_fn=<AddBackward0>)\n",
      "Epoch: 1 Cost: tensor(0.3596, grad_fn=<AddBackward0>)\n",
      "Epoch: 2 Cost: tensor(0.3313, grad_fn=<AddBackward0>)\n",
      "Epoch: 3 Cost: tensor(0.3164, grad_fn=<AddBackward0>)\n",
      "Epoch: 4 Cost: tensor(0.3071, grad_fn=<AddBackward0>)\n",
      "Epoch: 5 Cost: tensor(0.3005, grad_fn=<AddBackward0>)\n",
      "Epoch: 6 Cost: tensor(0.2949, grad_fn=<AddBackward0>)\n",
      "Epoch: 7 Cost: tensor(0.2910, grad_fn=<AddBackward0>)\n",
      "Epoch: 8 Cost: tensor(0.2871, grad_fn=<AddBackward0>)\n",
      "Epoch: 9 Cost: tensor(0.2845, grad_fn=<AddBackward0>)\n",
      "Epoch: 10 Cost: tensor(0.2819, grad_fn=<AddBackward0>)\n",
      "Epoch: 11 Cost: tensor(0.2795, grad_fn=<AddBackward0>)\n",
      "Epoch: 12 Cost: tensor(0.2776, grad_fn=<AddBackward0>)\n",
      "Epoch: 13 Cost: tensor(0.2759, grad_fn=<AddBackward0>)\n",
      "Epoch: 14 Cost: tensor(0.2744, grad_fn=<AddBackward0>)\n",
      "Learning finished\n"
     ]
    }
   ],
   "source": [
    "for epoch in range(training_epochs):\n",
    "    avg_cost = 0\n",
    "    total_batch = len(data_loader)\n",
    "\n",
    "    for X, Y in data_loader:\n",
    "        X=X.view(-1, 28*28).to(device)\n",
    "        Y=Y.to(device)\n",
    "\n",
    "        optimizer.zero_grad()\n",
    "        y_hat = linear(X)\n",
    "        cost = criterion(y_hat, Y)\n",
    "        cost.backward()\n",
    "        optimizer.step()\n",
    "        avg_cost += cost/total_batch\n",
    "\n",
    "    print('Epoch:', epoch, 'Cost:', avg_cost)\n",
    "print('Learning finished')\n"
   ]
  },
  {
   "cell_type": "code",
   "execution_count": null,
   "metadata": {},
   "outputs": [],
   "source": [
    "with torch.no_grad():\n",
    "    x_test=mnist_test.test_data.view(-1, 28*28).float().to(device)\n",
    "    y_test = mnist_test.test_labels.to(device)\n",
    "\n",
    "    prediction = linear(x_test)\n",
    "    correct_prediction = torch.argmax(prediction, 1)==y_test\n",
    "    accuracy = correct_prediction.float().mean()\n",
    "    print('Accuracy:', accuracy.item())\n",
    "    r = random.randint(0, len(mnist_test) -1)\n",
    "    x_single_data = mnist_test.test_data[r:r+1].view(-1, 28*28).float().to(device)\n",
    "    y_single_data = mnist_test.test_labels[r:r+1].to(device)\n",
    "    print('Label:',y_single_data)\n",
    "    single_prediction = linear(x_single_data)\n",
    "    print(single_prediction)\n",
    "    print('Prediction:', torch.argmax(single_prediction,1).item())\n",
    "\n",
    "    plt.imshow(mnist_test.test_data[r:r+1].view(28,28), cmap='Grays')\n",
    "    plt.show()\n"
   ]
  },
  {
   "cell_type": "code",
   "execution_count": null,
   "metadata": {},
   "outputs": [],
   "source": []
  }
 ],
 "metadata": {
  "kernelspec": {
   "display_name": "base",
   "language": "python",
   "name": "python3"
  },
  "language_info": {
   "codemirror_mode": {
    "name": "ipython",
    "version": 3
   },
   "file_extension": ".py",
   "mimetype": "text/x-python",
   "name": "python",
   "nbconvert_exporter": "python",
   "pygments_lexer": "ipython3",
   "version": "3.10.9"
  },
  "orig_nbformat": 4
 },
 "nbformat": 4,
 "nbformat_minor": 2
}
