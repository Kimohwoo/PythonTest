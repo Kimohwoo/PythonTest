{
 "cells": [
  {
   "cell_type": "code",
   "execution_count": 27,
   "metadata": {},
   "outputs": [],
   "source": [
    "import torch\n",
    "import torch.optim as optim"
   ]
  },
  {
   "cell_type": "code",
   "execution_count": 28,
   "metadata": {},
   "outputs": [
    {
     "data": {
      "text/plain": [
       "<torch._C.Generator at 0x1d1b1a1ab30>"
      ]
     },
     "execution_count": 28,
     "metadata": {},
     "output_type": "execute_result"
    }
   ],
   "source": [
    "torch.manual_seed(1)"
   ]
  },
  {
   "cell_type": "code",
   "execution_count": 29,
   "metadata": {},
   "outputs": [],
   "source": [
    "x_data = torch.FloatTensor([[1],[2],[3],[4],[5]])\n",
    "t_data = torch.FloatTensor([[3],[5],[7],[9],[11]])"
   ]
  },
  {
   "cell_type": "code",
   "execution_count": 30,
   "metadata": {},
   "outputs": [
    {
     "name": "stdout",
     "output_type": "stream",
     "text": [
      "tensor([0.], requires_grad=True) tensor([0.], requires_grad=True)\n"
     ]
    }
   ],
   "source": [
    "w = torch.zeros(1, requires_grad=True)\n",
    "b = torch.zeros(1, requires_grad=True)\n",
    "print(w, b)"
   ]
  },
  {
   "cell_type": "code",
   "execution_count": 31,
   "metadata": {},
   "outputs": [],
   "source": [
    "y = x_data*w+b\n"
   ]
  },
  {
   "cell_type": "code",
   "execution_count": 32,
   "metadata": {},
   "outputs": [
    {
     "name": "stdout",
     "output_type": "stream",
     "text": [
      "tensor(57., grad_fn=<MeanBackward0>)\n"
     ]
    }
   ],
   "source": [
    "cost = torch.mean((t_data - y)**2)\n",
    "print(cost)"
   ]
  },
  {
   "cell_type": "code",
   "execution_count": 33,
   "metadata": {},
   "outputs": [],
   "source": [
    "optimize = optim.SGD([w,b], lr = 0.01) #경사하강법으로 w,b 업데이트 하기위한 최적화식"
   ]
  },
  {
   "cell_type": "code",
   "execution_count": 34,
   "metadata": {},
   "outputs": [
    {
     "name": "stdout",
     "output_type": "stream",
     "text": [
      "Epoch    0 w: 0.500, b: 0.140 Cost: 57.000000\n",
      "Epoch  100 w: 2.082, b: 0.706 Cost: 0.015866\n",
      "Epoch  200 w: 2.058, b: 0.790 Cost: 0.008060\n",
      "Epoch  300 w: 2.041, b: 0.851 Cost: 0.004094\n",
      "Epoch  400 w: 2.030, b: 0.893 Cost: 0.002080\n",
      "Epoch  500 w: 2.021, b: 0.924 Cost: 0.001056\n",
      "Epoch  600 w: 2.015, b: 0.946 Cost: 0.000537\n",
      "Epoch  700 w: 2.011, b: 0.961 Cost: 0.000273\n",
      "Epoch  800 w: 2.008, b: 0.973 Cost: 0.000138\n",
      "Epoch  900 w: 2.005, b: 0.980 Cost: 0.000070\n",
      "Epoch 1000 w: 2.004, b: 0.986 Cost: 0.000036\n",
      "Epoch 1100 w: 2.003, b: 0.990 Cost: 0.000018\n",
      "Epoch 1200 w: 2.002, b: 0.993 Cost: 0.000009\n",
      "Epoch 1300 w: 2.001, b: 0.995 Cost: 0.000005\n",
      "Epoch 1400 w: 2.001, b: 0.996 Cost: 0.000002\n",
      "Epoch 1500 w: 2.001, b: 0.997 Cost: 0.000001\n",
      "Epoch 1600 w: 2.001, b: 0.998 Cost: 0.000001\n",
      "Epoch 1700 w: 2.000, b: 0.999 Cost: 0.000000\n",
      "Epoch 1800 w: 2.000, b: 0.999 Cost: 0.000000\n",
      "Epoch 1900 w: 2.000, b: 0.999 Cost: 0.000000\n",
      "Epoch 2000 w: 2.000, b: 1.000 Cost: 0.000000\n"
     ]
    }
   ],
   "source": [
    "nb_epochs = 2000\n",
    "for epoch in range(nb_epochs + 1):\n",
    "    y = x_data*w + b\n",
    "    cost = torch.mean((y-t_data)**2)\n",
    "\n",
    "    optimize.zero_grad()\n",
    "    cost.backward()\n",
    "    optimize.step()\n",
    "    if epoch % 100 == 0:\n",
    "        print('Epoch {:4d} w: {:.3f}, b: {:.3f} Cost: {:.6f}'.format(epoch, w.item(), b.item(), cost.item()))"
   ]
  },
  {
   "cell_type": "code",
   "execution_count": 51,
   "metadata": {},
   "outputs": [],
   "source": [
    "# x_data = torch.FloatTensor([[73., 80., 75.],\n",
    "#                             [93., 88., 93.],\n",
    "#                             [89., 91., 90.],\n",
    "#                             [96., 98., 100.],\n",
    "#                             [73., 66., 70.]])\n",
    "# t_data = torch.FloatTensor([[152.],\n",
    "#                             [185.],\n",
    "#                             [180.],\n",
    "#                             [196.],\n",
    "#                             [142.]])\n",
    "\n",
    "# W = torch.zeros((3,1), requires_grad=True)\n",
    "# b = torch.zeros(1, requires_grad=True)\n",
    "\n",
    "# # y = x_data.matmul(W) + b\n",
    "# optimizer = optim.SGD([W,b], lr=1e-6)\n",
    "# nb_epochs = 200000\n",
    "# for epoch in range(nb_epochs + 1):\n",
    "#     y = x_data.matmul(W) + b\n",
    "#     cost = torch.mean((y-t_data)**2)\n",
    "\n",
    "#     optimizer.zero_grad()\n",
    "#     cost.backward()\n",
    "#     optimizer.step()\n",
    "#     if epoch % 100 == 0:\n",
    "#         print('Epoch {:4d}/{}, Hypothesis:{} b: {:.3f} Cost: {:.6f}'.format(epoch, nb_epochs, y.squeeze().detach(), b.item(), cost.item()))\n"
   ]
  },
  {
   "cell_type": "code",
   "execution_count": null,
   "metadata": {},
   "outputs": [],
   "source": []
  }
 ],
 "metadata": {
  "kernelspec": {
   "display_name": "base",
   "language": "python",
   "name": "python3"
  },
  "language_info": {
   "codemirror_mode": {
    "name": "ipython",
    "version": 3
   },
   "file_extension": ".py",
   "mimetype": "text/x-python",
   "name": "python",
   "nbconvert_exporter": "python",
   "pygments_lexer": "ipython3",
   "version": "3.10.9"
  },
  "orig_nbformat": 4
 },
 "nbformat": 4,
 "nbformat_minor": 2
}
